{
 "cells": [
  {
   "cell_type": "code",
   "execution_count": 32,
   "metadata": {},
   "outputs": [],
   "source": [
    "import h5py\n",
    "import numpy as np\n",
    "import matplotlib.pyplot as plt\n",
    "import pandas as pd\n",
    "import scipy\n",
    "import math "
   ]
  },
  {
   "cell_type": "code",
   "execution_count": 33,
   "metadata": {},
   "outputs": [
    {
     "name": "stdout",
     "output_type": "stream",
     "text": [
      "KeysView(<HDF5 file \"WEB_CIC_256_DM_TNG300-2.hdf5\" (mode r)>)\n"
     ]
    },
    {
     "data": {
      "text/plain": [
       "256"
      ]
     },
     "execution_count": 33,
     "metadata": {},
     "output_type": "execute_result"
    }
   ],
   "source": [
    "filename = '/Users/usuario-mac/Desktop/TNG300-1/stellar/WEB_CIC_256_DM_TNG300-2.hdf5'\n",
    "f = h5py.File(filename, 'r')\n",
    "print(f.keys())\n",
    "density_smooth = f['density_smooth'][:,:,:]\n",
    "lambda1 = f['lambda1'][:,:,:]\n",
    "lambda2 = f['lambda2'][:,:,:]\n",
    "lambda3 = f['lambda3'][:,:,:]\n",
    "f.close()\n",
    "np.shape(lambda1)[0]"
   ]
  },
  {
   "cell_type": "code",
   "execution_count": 34,
   "metadata": {},
   "outputs": [
    {
     "name": "stdout",
     "output_type": "stream",
     "text": [
      "495093 495093 495093 495093 205.0 204.999 204.999 2.22045e-16 9.00234\n"
     ]
    }
   ],
   "source": [
    "Snap = []  #SnapFormation\n",
    "ZF=[] #z de formation\n",
    "mass=[] #masa de las galaxias (SubhaloMassInRadType[0,4])\n",
    "x=[] #coordinates\n",
    "y=[]\n",
    "z=[]\n",
    "archivo=open(\"TNG1_todas.dat\",\"r\")\n",
    "\n",
    "for i in (row.strip().split() for row in archivo): \n",
    "\n",
    "    Snap.append(float(i[0])) #convierte las columnas de los datos en listas para operar los datos\n",
    "    ZF.append(float(i[1]))\n",
    "    mass.append(float(i[2]))\n",
    "    x.append(float(i[3])/1000) #coordenadas en Mpc/h\n",
    "    y.append(float(i[4])/1000)\n",
    "    z.append(float(i[5])/1000)\n",
    "    \n",
    "print(len(mass), len(x),len(y),len(z),max(x), max(y), max(z), min(ZF), max(ZF))"
   ]
  },
  {
   "cell_type": "code",
   "execution_count": 35,
   "metadata": {},
   "outputs": [
    {
     "name": "stdout",
     "output_type": "stream",
     "text": [
      "205\n",
      "1.1828378877400294\n",
      "(495093, 3)\n",
      "here\n",
      "(495093,) 495093 [0.5645329  0.5681063  0.6700627  ... 0.71946996 0.2737225  1.0027392 ]\n"
     ]
    }
   ],
   "source": [
    "hubble = 0.677\n",
    "BoxSize=205\n",
    "print(BoxSize)\n",
    "delta_box = BoxSize*(1/hubble)/np.shape(lambda1)[0]\n",
    "print(delta_box)\n",
    "\n",
    "pos=np.array([x,y,z]).T\n",
    "print(pos.shape)\n",
    "\n",
    "posx=pos[:,0];\n",
    "posy=pos[:,1];\n",
    "posz=pos[:,2];\n",
    "\n",
    "#print(x)\n",
    "ii_box = np.int_(posx//delta_box)\n",
    "jj_box = np.int_(posy//delta_box)\n",
    "kk_box = np.int_(posz//delta_box)\n",
    "print('here')\n",
    "lambda1_galaxy = lambda1[ii_box, jj_box, kk_box]\n",
    "lambda2_galaxy = lambda2[ii_box, jj_box, kk_box]\n",
    "lambda3_galaxy = lambda3[ii_box, jj_box, kk_box]\n",
    "density_galaxy = density_smooth[ii_box, jj_box, kk_box]\n",
    "\n",
    "print(lambda1_galaxy.shape, len(lambda1_galaxy), lambda1_galaxy)"
   ]
  },
  {
   "cell_type": "code",
   "execution_count": 38,
   "metadata": {},
   "outputs": [
    {
     "name": "stdout",
     "output_type": "stream",
     "text": [
      "(495093,)\n",
      "-1666503.1 2982.2659\n"
     ]
    }
   ],
   "source": [
    "sigma=lambda1_galaxy+lambda2_galaxy+lambda3_galaxy\n",
    "print(sigma.shape)\n",
    "\n",
    "q2=0.5*((lambda2_galaxy-lambda1_galaxy)**2 + (lambda3_galaxy-lambda1_galaxy)**2 + (lambda3_galaxy-lambda2_galaxy)**2)\n",
    "alpha= np.sqrt(q2)/(1+sigma)\n",
    "print(min(alpha), max(alpha))\n",
    "\n",
    "filename1 = 'all_TNG1.hdf5'\n",
    "h5f = h5py.File(filename1, 'w')\n",
    "h5f.create_dataset('Zformation', data=ZF)\n",
    "h5f.create_dataset('galaxy_mass', data=mass)\n",
    "h5f.create_dataset('pos', data=pos)\n",
    "h5f.create_dataset('lambda1', data=lambda1_galaxy)\n",
    "h5f.create_dataset('lambda2', data=lambda2_galaxy)\n",
    "h5f.create_dataset('lambda3', data=lambda3_galaxy)\n",
    "h5f.create_dataset('density', data=density_galaxy)\n",
    "h5f.create_dataset('alpha', data=alpha)\n",
    "h5f.create_dataset('sigma', data=sigma)\n",
    "\n",
    "h5f.close()\n",
    "\n",
    "#debo hacer un archivo donde esten Zformation, galaxy mass, x,y,z, lambda1_galaxy,lambda2_galaxy,lambda3_galaxy,sigma\n",
    "#graficar para cada corte Zfomation vs log sigma"
   ]
  },
  {
   "cell_type": "code",
   "execution_count": 37,
   "metadata": {},
   "outputs": [
    {
     "name": "stderr",
     "output_type": "stream",
     "text": [
      "/anaconda3/lib/python3.6/site-packages/ipykernel_launcher.py:1: RuntimeWarning: invalid value encountered in log10\n",
      "  \"\"\"Entry point for launching an IPython kernel.\n"
     ]
    },
    {
     "data": {
      "image/png": "[encoded data removed]",
      "text/plain": [
       "<Figure size 432x288 with 1 Axes>"
      ]
     },
     "metadata": {
      "needs_background": "light"
     },
     "output_type": "display_data"
    },
    {
     "name": "stdout",
     "output_type": "stream",
     "text": [
      "2.22045e-16 9.00234\n"
     ]
    }
   ],
   "source": [
    "plt.scatter(np.log10(alpha),ZF)\n",
    "plt.show()\n",
    "print(min(ZF), max(ZF))"
   ]
  },
  {
   "cell_type": "code",
   "execution_count": null,
   "metadata": {},
   "outputs": [],
   "source": []
  }
 ],
 "metadata": {
  "kernelspec": {
   "display_name": "Python 3",
   "language": "python",
   "name": "python3"
  },
  "language_info": {
   "codemirror_mode": {
    "name": "ipython",
    "version": 3
   },
   "file_extension": ".py",
   "mimetype": "text/x-python",
   "name": "python",
   "nbconvert_exporter": "python",
   "pygments_lexer": "ipython3",
   "version": "3.6.6"
  }
 },
 "nbformat": 4,
 "nbformat_minor": 2
}
